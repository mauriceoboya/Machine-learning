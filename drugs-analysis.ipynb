{
 "cells": [
  {
   "cell_type": "code",
   "execution_count": 1,
   "id": "9206d726",
   "metadata": {},
   "outputs": [],
   "source": [
    "import pandas as pd\n",
    "import numpy as np\n",
    "import seaborn as sns\n",
    "import matplotlib.pyplot as plt\n"
   ]
  },
  {
   "cell_type": "code",
   "execution_count": 2,
   "id": "5c71fca3",
   "metadata": {},
   "outputs": [],
   "source": [
    "dataset=pd.read_csv('/home/fibonacci/Downloads/drug200.xls')"
   ]
  },
  {
   "cell_type": "code",
   "execution_count": 3,
   "id": "8bb510c6",
   "metadata": {},
   "outputs": [
    {
     "data": {
      "text/html": [
       "<div>\n",
       "<style scoped>\n",
       "    .dataframe tbody tr th:only-of-type {\n",
       "        vertical-align: middle;\n",
       "    }\n",
       "\n",
       "    .dataframe tbody tr th {\n",
       "        vertical-align: top;\n",
       "    }\n",
       "\n",
       "    .dataframe thead th {\n",
       "        text-align: right;\n",
       "    }\n",
       "</style>\n",
       "<table border=\"1\" class=\"dataframe\">\n",
       "  <thead>\n",
       "    <tr style=\"text-align: right;\">\n",
       "      <th></th>\n",
       "      <th>Age</th>\n",
       "      <th>Sex</th>\n",
       "      <th>BP</th>\n",
       "      <th>Cholesterol</th>\n",
       "      <th>Na_to_K</th>\n",
       "      <th>Drug</th>\n",
       "    </tr>\n",
       "  </thead>\n",
       "  <tbody>\n",
       "    <tr>\n",
       "      <th>0</th>\n",
       "      <td>23</td>\n",
       "      <td>F</td>\n",
       "      <td>HIGH</td>\n",
       "      <td>HIGH</td>\n",
       "      <td>25.355</td>\n",
       "      <td>DrugY</td>\n",
       "    </tr>\n",
       "    <tr>\n",
       "      <th>1</th>\n",
       "      <td>47</td>\n",
       "      <td>M</td>\n",
       "      <td>LOW</td>\n",
       "      <td>HIGH</td>\n",
       "      <td>13.093</td>\n",
       "      <td>drugC</td>\n",
       "    </tr>\n",
       "    <tr>\n",
       "      <th>2</th>\n",
       "      <td>47</td>\n",
       "      <td>M</td>\n",
       "      <td>LOW</td>\n",
       "      <td>HIGH</td>\n",
       "      <td>10.114</td>\n",
       "      <td>drugC</td>\n",
       "    </tr>\n",
       "    <tr>\n",
       "      <th>3</th>\n",
       "      <td>28</td>\n",
       "      <td>F</td>\n",
       "      <td>NORMAL</td>\n",
       "      <td>HIGH</td>\n",
       "      <td>7.798</td>\n",
       "      <td>drugX</td>\n",
       "    </tr>\n",
       "    <tr>\n",
       "      <th>4</th>\n",
       "      <td>61</td>\n",
       "      <td>F</td>\n",
       "      <td>LOW</td>\n",
       "      <td>HIGH</td>\n",
       "      <td>18.043</td>\n",
       "      <td>DrugY</td>\n",
       "    </tr>\n",
       "  </tbody>\n",
       "</table>\n",
       "</div>"
      ],
      "text/plain": [
       "   Age Sex      BP Cholesterol  Na_to_K   Drug\n",
       "0   23   F    HIGH        HIGH   25.355  DrugY\n",
       "1   47   M     LOW        HIGH   13.093  drugC\n",
       "2   47   M     LOW        HIGH   10.114  drugC\n",
       "3   28   F  NORMAL        HIGH    7.798  drugX\n",
       "4   61   F     LOW        HIGH   18.043  DrugY"
      ]
     },
     "execution_count": 3,
     "metadata": {},
     "output_type": "execute_result"
    }
   ],
   "source": [
    "dataset.head()"
   ]
  },
  {
   "cell_type": "code",
   "execution_count": 4,
   "id": "dd968876",
   "metadata": {},
   "outputs": [
    {
     "data": {
      "text/plain": [
       "array(['HIGH', 'NORMAL'], dtype=object)"
      ]
     },
     "execution_count": 4,
     "metadata": {},
     "output_type": "execute_result"
    }
   ],
   "source": [
    "dataset.Cholesterol.unique()"
   ]
  },
  {
   "cell_type": "code",
   "execution_count": 5,
   "id": "70a5d856",
   "metadata": {},
   "outputs": [
    {
     "data": {
      "text/plain": [
       "Age            0\n",
       "Sex            0\n",
       "BP             0\n",
       "Cholesterol    0\n",
       "Na_to_K        0\n",
       "Drug           0\n",
       "dtype: int64"
      ]
     },
     "execution_count": 5,
     "metadata": {},
     "output_type": "execute_result"
    }
   ],
   "source": [
    "dataset.isnull().sum()"
   ]
  },
  {
   "cell_type": "code",
   "execution_count": 6,
   "id": "216a2ad0",
   "metadata": {},
   "outputs": [],
   "source": [
    "def cleaning(dataset):\n",
    "    dataset['Drug']=dataset['Drug'].apply(lambda x: 0 if x=='DrugY' else 1 if x=='drugC' else 2 if x=='drugX' else 3 if x=='drugA' else 4 if x=='drugB'  else x)\n",
    "    dataset['Sex']=dataset['Sex'].apply(lambda x:1 if x=='M' else 0 if x=='F' else x)\n",
    "    dataset['BP']=dataset['BP'].apply(lambda x: 1 if x=='NORMAL' else 2 if x=='HIGH'else 0 if x=='LOW' else x)\n",
    "    dataset['Cholesterol']=dataset['Cholesterol'].apply(lambda x:1 if x=='HIGH' else 0 if x=='NORMAL' else x)\n",
    "    return dataset"
   ]
  },
  {
   "cell_type": "code",
   "execution_count": 7,
   "id": "24a5b629",
   "metadata": {},
   "outputs": [
    {
     "data": {
      "text/html": [
       "<div>\n",
       "<style scoped>\n",
       "    .dataframe tbody tr th:only-of-type {\n",
       "        vertical-align: middle;\n",
       "    }\n",
       "\n",
       "    .dataframe tbody tr th {\n",
       "        vertical-align: top;\n",
       "    }\n",
       "\n",
       "    .dataframe thead th {\n",
       "        text-align: right;\n",
       "    }\n",
       "</style>\n",
       "<table border=\"1\" class=\"dataframe\">\n",
       "  <thead>\n",
       "    <tr style=\"text-align: right;\">\n",
       "      <th></th>\n",
       "      <th>Age</th>\n",
       "      <th>Sex</th>\n",
       "      <th>BP</th>\n",
       "      <th>Cholesterol</th>\n",
       "      <th>Na_to_K</th>\n",
       "      <th>Drug</th>\n",
       "    </tr>\n",
       "  </thead>\n",
       "  <tbody>\n",
       "    <tr>\n",
       "      <th>0</th>\n",
       "      <td>23</td>\n",
       "      <td>0</td>\n",
       "      <td>2</td>\n",
       "      <td>1</td>\n",
       "      <td>25.355</td>\n",
       "      <td>0</td>\n",
       "    </tr>\n",
       "    <tr>\n",
       "      <th>1</th>\n",
       "      <td>47</td>\n",
       "      <td>1</td>\n",
       "      <td>0</td>\n",
       "      <td>1</td>\n",
       "      <td>13.093</td>\n",
       "      <td>1</td>\n",
       "    </tr>\n",
       "    <tr>\n",
       "      <th>2</th>\n",
       "      <td>47</td>\n",
       "      <td>1</td>\n",
       "      <td>0</td>\n",
       "      <td>1</td>\n",
       "      <td>10.114</td>\n",
       "      <td>1</td>\n",
       "    </tr>\n",
       "    <tr>\n",
       "      <th>3</th>\n",
       "      <td>28</td>\n",
       "      <td>0</td>\n",
       "      <td>1</td>\n",
       "      <td>1</td>\n",
       "      <td>7.798</td>\n",
       "      <td>2</td>\n",
       "    </tr>\n",
       "    <tr>\n",
       "      <th>4</th>\n",
       "      <td>61</td>\n",
       "      <td>0</td>\n",
       "      <td>0</td>\n",
       "      <td>1</td>\n",
       "      <td>18.043</td>\n",
       "      <td>0</td>\n",
       "    </tr>\n",
       "  </tbody>\n",
       "</table>\n",
       "</div>"
      ],
      "text/plain": [
       "   Age  Sex  BP  Cholesterol  Na_to_K  Drug\n",
       "0   23    0   2            1   25.355     0\n",
       "1   47    1   0            1   13.093     1\n",
       "2   47    1   0            1   10.114     1\n",
       "3   28    0   1            1    7.798     2\n",
       "4   61    0   0            1   18.043     0"
      ]
     },
     "execution_count": 7,
     "metadata": {},
     "output_type": "execute_result"
    }
   ],
   "source": [
    "dataset=cleaning(dataset)\n",
    "dataset.head()"
   ]
  },
  {
   "cell_type": "code",
   "execution_count": 8,
   "id": "c93d7f52",
   "metadata": {},
   "outputs": [],
   "source": [
    "y=dataset['Drug']\n",
    "x=dataset.drop(columns=['Drug'],axis=1)"
   ]
  },
  {
   "cell_type": "code",
   "execution_count": 9,
   "id": "1cf8642f",
   "metadata": {},
   "outputs": [],
   "source": [
    "from sklearn.preprocessing import StandardScaler"
   ]
  },
  {
   "cell_type": "code",
   "execution_count": 10,
   "id": "f3345e37",
   "metadata": {},
   "outputs": [],
   "source": [
    "str_x=StandardScaler()\n",
    "x = str_x.fit_transform(x)"
   ]
  },
  {
   "cell_type": "code",
   "execution_count": 11,
   "id": "a2226fbb",
   "metadata": {},
   "outputs": [
    {
     "name": "stderr",
     "output_type": "stream",
     "text": [
      "2024-03-12 11:51:54.373245: I external/local_tsl/tsl/cuda/cudart_stub.cc:31] Could not find cuda drivers on your machine, GPU will not be used.\n",
      "2024-03-12 11:51:54.443610: E external/local_xla/xla/stream_executor/cuda/cuda_dnn.cc:9261] Unable to register cuDNN factory: Attempting to register factory for plugin cuDNN when one has already been registered\n",
      "2024-03-12 11:51:54.443649: E external/local_xla/xla/stream_executor/cuda/cuda_fft.cc:607] Unable to register cuFFT factory: Attempting to register factory for plugin cuFFT when one has already been registered\n",
      "2024-03-12 11:51:54.445153: E external/local_xla/xla/stream_executor/cuda/cuda_blas.cc:1515] Unable to register cuBLAS factory: Attempting to register factory for plugin cuBLAS when one has already been registered\n",
      "2024-03-12 11:51:54.453473: I external/local_tsl/tsl/cuda/cudart_stub.cc:31] Could not find cuda drivers on your machine, GPU will not be used.\n",
      "2024-03-12 11:51:56.725398: W tensorflow/compiler/tf2tensorrt/utils/py_utils.cc:38] TF-TRT Warning: Could not find TensorRT\n"
     ]
    }
   ],
   "source": [
    "import tensorflow as tf\n",
    "import keras\n",
    "from tensorflow.keras import models,layers,Sequential"
   ]
  },
  {
   "cell_type": "code",
   "execution_count": 12,
   "id": "d636ad89",
   "metadata": {},
   "outputs": [],
   "source": [
    "from sklearn.model_selection import train_test_split\n",
    "x_train,x_test,y_train,y_test=train_test_split(x,y,test_size=0.28,random_state=0)"
   ]
  },
  {
   "cell_type": "code",
   "execution_count": 13,
   "id": "eb8bba63",
   "metadata": {},
   "outputs": [],
   "source": [
    "model=tf.keras.models.Sequential([\n",
    "    keras.layers.Dense(128,input_dim=x_train.shape[1],activation='relu'),\n",
    "    keras.layers.Dense(64,activation='relu'),\n",
    "    keras.layers.Dense(32,activation='relu'),\n",
    "    keras.layers.Dense(16,activation='relu'),\n",
    "    keras.layers.Dense(5,activation='softmax')\n",
    "])"
   ]
  },
  {
   "cell_type": "code",
   "execution_count": 20,
   "id": "d7669f4d",
   "metadata": {},
   "outputs": [],
   "source": [
    "model.compile(optimizer='adam',loss='sparse_categorical_crossentropy',metrics=['accuracy'])"
   ]
  },
  {
   "cell_type": "code",
   "execution_count": 21,
   "id": "d965bdc4",
   "metadata": {},
   "outputs": [
    {
     "name": "stdout",
     "output_type": "stream",
     "text": [
      "Epoch 1/100\n",
      "4/4 [==============================] - 1s 89ms/step - loss: 0.0061 - accuracy: 1.0000 - val_loss: 0.2835 - val_accuracy: 0.8837\n",
      "Epoch 2/100\n",
      "4/4 [==============================] - 0s 16ms/step - loss: 0.0052 - accuracy: 1.0000 - val_loss: 0.2557 - val_accuracy: 0.9302\n",
      "Epoch 3/100\n",
      "4/4 [==============================] - 0s 22ms/step - loss: 0.0046 - accuracy: 1.0000 - val_loss: 0.3538 - val_accuracy: 0.9070\n",
      "Epoch 4/100\n",
      "4/4 [==============================] - 0s 17ms/step - loss: 0.0036 - accuracy: 1.0000 - val_loss: 0.4287 - val_accuracy: 0.8837\n",
      "Epoch 5/100\n",
      "4/4 [==============================] - 0s 17ms/step - loss: 0.0031 - accuracy: 1.0000 - val_loss: 0.4396 - val_accuracy: 0.8837\n",
      "Epoch 6/100\n",
      "4/4 [==============================] - 0s 17ms/step - loss: 0.0023 - accuracy: 1.0000 - val_loss: 0.3986 - val_accuracy: 0.8837\n",
      "Epoch 7/100\n",
      "4/4 [==============================] - 0s 17ms/step - loss: 0.0022 - accuracy: 1.0000 - val_loss: 0.3659 - val_accuracy: 0.8837\n",
      "Epoch 8/100\n",
      "4/4 [==============================] - 0s 19ms/step - loss: 0.0023 - accuracy: 1.0000 - val_loss: 0.3724 - val_accuracy: 0.8837\n",
      "Epoch 9/100\n",
      "4/4 [==============================] - 0s 24ms/step - loss: 0.0020 - accuracy: 1.0000 - val_loss: 0.4015 - val_accuracy: 0.8837\n",
      "Epoch 10/100\n",
      "4/4 [==============================] - 0s 21ms/step - loss: 0.0019 - accuracy: 1.0000 - val_loss: 0.4481 - val_accuracy: 0.8837\n",
      "Epoch 11/100\n",
      "4/4 [==============================] - 0s 19ms/step - loss: 0.0018 - accuracy: 1.0000 - val_loss: 0.3958 - val_accuracy: 0.8837\n",
      "Epoch 12/100\n",
      "4/4 [==============================] - 0s 23ms/step - loss: 0.0013 - accuracy: 1.0000 - val_loss: 0.3406 - val_accuracy: 0.8837\n",
      "Epoch 13/100\n",
      "4/4 [==============================] - 0s 23ms/step - loss: 0.0013 - accuracy: 1.0000 - val_loss: 0.2723 - val_accuracy: 0.9070\n",
      "Epoch 14/100\n",
      "4/4 [==============================] - 0s 22ms/step - loss: 0.0026 - accuracy: 1.0000 - val_loss: 0.2938 - val_accuracy: 0.9070\n",
      "Epoch 15/100\n",
      "4/4 [==============================] - 0s 18ms/step - loss: 0.0013 - accuracy: 1.0000 - val_loss: 0.4005 - val_accuracy: 0.8837\n",
      "Epoch 16/100\n",
      "4/4 [==============================] - 0s 27ms/step - loss: 9.2589e-04 - accuracy: 1.0000 - val_loss: 0.4990 - val_accuracy: 0.8837\n",
      "Epoch 17/100\n",
      "4/4 [==============================] - 0s 22ms/step - loss: 0.0011 - accuracy: 1.0000 - val_loss: 0.5487 - val_accuracy: 0.8837\n",
      "Epoch 18/100\n",
      "4/4 [==============================] - 0s 21ms/step - loss: 0.0010 - accuracy: 1.0000 - val_loss: 0.5582 - val_accuracy: 0.8837\n",
      "Epoch 19/100\n",
      "4/4 [==============================] - 0s 26ms/step - loss: 8.5598e-04 - accuracy: 1.0000 - val_loss: 0.5427 - val_accuracy: 0.8837\n",
      "Epoch 20/100\n",
      "4/4 [==============================] - 0s 25ms/step - loss: 6.6279e-04 - accuracy: 1.0000 - val_loss: 0.5089 - val_accuracy: 0.8837\n",
      "Epoch 21/100\n",
      "4/4 [==============================] - 0s 28ms/step - loss: 6.8153e-04 - accuracy: 1.0000 - val_loss: 0.4639 - val_accuracy: 0.8837\n",
      "Epoch 22/100\n",
      "4/4 [==============================] - 0s 20ms/step - loss: 5.7525e-04 - accuracy: 1.0000 - val_loss: 0.4687 - val_accuracy: 0.8837\n",
      "Epoch 23/100\n",
      "4/4 [==============================] - 0s 25ms/step - loss: 5.2544e-04 - accuracy: 1.0000 - val_loss: 0.4722 - val_accuracy: 0.8837\n",
      "Epoch 24/100\n",
      "4/4 [==============================] - 0s 25ms/step - loss: 4.5614e-04 - accuracy: 1.0000 - val_loss: 0.4798 - val_accuracy: 0.8837\n",
      "Epoch 25/100\n",
      "4/4 [==============================] - 0s 24ms/step - loss: 4.2954e-04 - accuracy: 1.0000 - val_loss: 0.4850 - val_accuracy: 0.8837\n",
      "Epoch 26/100\n",
      "4/4 [==============================] - 0s 28ms/step - loss: 4.0416e-04 - accuracy: 1.0000 - val_loss: 0.4853 - val_accuracy: 0.8837\n",
      "Epoch 27/100\n",
      "4/4 [==============================] - 0s 17ms/step - loss: 3.8836e-04 - accuracy: 1.0000 - val_loss: 0.4857 - val_accuracy: 0.8837\n",
      "Epoch 28/100\n",
      "4/4 [==============================] - 0s 28ms/step - loss: 3.7113e-04 - accuracy: 1.0000 - val_loss: 0.4826 - val_accuracy: 0.8837\n",
      "Epoch 29/100\n",
      "4/4 [==============================] - 0s 27ms/step - loss: 3.6031e-04 - accuracy: 1.0000 - val_loss: 0.4792 - val_accuracy: 0.8837\n",
      "Epoch 30/100\n",
      "4/4 [==============================] - 0s 21ms/step - loss: 3.4896e-04 - accuracy: 1.0000 - val_loss: 0.4799 - val_accuracy: 0.8837\n",
      "Epoch 31/100\n",
      "4/4 [==============================] - 0s 26ms/step - loss: 3.3336e-04 - accuracy: 1.0000 - val_loss: 0.4826 - val_accuracy: 0.8837\n",
      "Epoch 32/100\n",
      "4/4 [==============================] - 0s 23ms/step - loss: 3.1926e-04 - accuracy: 1.0000 - val_loss: 0.4902 - val_accuracy: 0.8837\n",
      "Epoch 33/100\n",
      "4/4 [==============================] - 0s 25ms/step - loss: 3.1538e-04 - accuracy: 1.0000 - val_loss: 0.4978 - val_accuracy: 0.8837\n",
      "Epoch 34/100\n",
      "4/4 [==============================] - 0s 22ms/step - loss: 3.1596e-04 - accuracy: 1.0000 - val_loss: 0.5130 - val_accuracy: 0.8837\n",
      "Epoch 35/100\n",
      "4/4 [==============================] - 0s 30ms/step - loss: 3.1686e-04 - accuracy: 1.0000 - val_loss: 0.5190 - val_accuracy: 0.8837\n",
      "Epoch 36/100\n",
      "4/4 [==============================] - 0s 26ms/step - loss: 3.2700e-04 - accuracy: 1.0000 - val_loss: 0.5140 - val_accuracy: 0.8837\n",
      "Epoch 37/100\n",
      "4/4 [==============================] - 0s 30ms/step - loss: 2.7749e-04 - accuracy: 1.0000 - val_loss: 0.4769 - val_accuracy: 0.8837\n",
      "Epoch 38/100\n",
      "4/4 [==============================] - 0s 17ms/step - loss: 2.5226e-04 - accuracy: 1.0000 - val_loss: 0.4544 - val_accuracy: 0.8837\n",
      "Epoch 39/100\n",
      "4/4 [==============================] - 0s 22ms/step - loss: 2.7833e-04 - accuracy: 1.0000 - val_loss: 0.4442 - val_accuracy: 0.8837\n",
      "Epoch 40/100\n",
      "4/4 [==============================] - 0s 22ms/step - loss: 2.8352e-04 - accuracy: 1.0000 - val_loss: 0.4483 - val_accuracy: 0.8837\n",
      "Epoch 41/100\n",
      "4/4 [==============================] - 0s 15ms/step - loss: 2.7088e-04 - accuracy: 1.0000 - val_loss: 0.4617 - val_accuracy: 0.8837\n",
      "Epoch 42/100\n",
      "4/4 [==============================] - 0s 12ms/step - loss: 2.5373e-04 - accuracy: 1.0000 - val_loss: 0.4754 - val_accuracy: 0.8837\n",
      "Epoch 43/100\n",
      "4/4 [==============================] - 0s 13ms/step - loss: 2.3103e-04 - accuracy: 1.0000 - val_loss: 0.4828 - val_accuracy: 0.8837\n",
      "Epoch 44/100\n",
      "4/4 [==============================] - 0s 14ms/step - loss: 2.1849e-04 - accuracy: 1.0000 - val_loss: 0.4913 - val_accuracy: 0.8837\n",
      "Epoch 45/100\n",
      "4/4 [==============================] - 0s 15ms/step - loss: 2.1370e-04 - accuracy: 1.0000 - val_loss: 0.4997 - val_accuracy: 0.8837\n",
      "Epoch 46/100\n",
      "4/4 [==============================] - 0s 14ms/step - loss: 2.0373e-04 - accuracy: 1.0000 - val_loss: 0.5024 - val_accuracy: 0.8837\n",
      "Epoch 47/100\n",
      "4/4 [==============================] - 0s 12ms/step - loss: 1.9602e-04 - accuracy: 1.0000 - val_loss: 0.4998 - val_accuracy: 0.8837\n",
      "Epoch 48/100\n",
      "4/4 [==============================] - 0s 16ms/step - loss: 1.9174e-04 - accuracy: 1.0000 - val_loss: 0.4989 - val_accuracy: 0.8837\n",
      "Epoch 49/100\n",
      "4/4 [==============================] - 0s 15ms/step - loss: 1.8983e-04 - accuracy: 1.0000 - val_loss: 0.4966 - val_accuracy: 0.8837\n",
      "Epoch 50/100\n",
      "4/4 [==============================] - 0s 12ms/step - loss: 1.7810e-04 - accuracy: 1.0000 - val_loss: 0.4854 - val_accuracy: 0.8837\n",
      "Epoch 51/100\n",
      "4/4 [==============================] - 0s 14ms/step - loss: 1.7828e-04 - accuracy: 1.0000 - val_loss: 0.4832 - val_accuracy: 0.8837\n",
      "Epoch 52/100\n",
      "4/4 [==============================] - 0s 14ms/step - loss: 1.7997e-04 - accuracy: 1.0000 - val_loss: 0.4851 - val_accuracy: 0.8837\n",
      "Epoch 53/100\n",
      "4/4 [==============================] - 0s 17ms/step - loss: 1.7448e-04 - accuracy: 1.0000 - val_loss: 0.4935 - val_accuracy: 0.8837\n",
      "Epoch 54/100\n",
      "4/4 [==============================] - 0s 16ms/step - loss: 1.6803e-04 - accuracy: 1.0000 - val_loss: 0.5055 - val_accuracy: 0.8837\n",
      "Epoch 55/100\n",
      "4/4 [==============================] - 0s 14ms/step - loss: 1.6364e-04 - accuracy: 1.0000 - val_loss: 0.5160 - val_accuracy: 0.8837\n",
      "Epoch 56/100\n",
      "4/4 [==============================] - 0s 14ms/step - loss: 1.5546e-04 - accuracy: 1.0000 - val_loss: 0.5198 - val_accuracy: 0.8837\n",
      "Epoch 57/100\n",
      "4/4 [==============================] - 0s 20ms/step - loss: 1.5258e-04 - accuracy: 1.0000 - val_loss: 0.5247 - val_accuracy: 0.8837\n",
      "Epoch 58/100\n"
     ]
    },
    {
     "name": "stdout",
     "output_type": "stream",
     "text": [
      "4/4 [==============================] - 0s 14ms/step - loss: 1.5145e-04 - accuracy: 1.0000 - val_loss: 0.5295 - val_accuracy: 0.8837\n",
      "Epoch 59/100\n",
      "4/4 [==============================] - 0s 14ms/step - loss: 1.4026e-04 - accuracy: 1.0000 - val_loss: 0.5524 - val_accuracy: 0.8837\n",
      "Epoch 60/100\n",
      "4/4 [==============================] - 0s 15ms/step - loss: 1.3973e-04 - accuracy: 1.0000 - val_loss: 0.5694 - val_accuracy: 0.8837\n",
      "Epoch 61/100\n",
      "4/4 [==============================] - 0s 24ms/step - loss: 1.4420e-04 - accuracy: 1.0000 - val_loss: 0.5788 - val_accuracy: 0.8837\n",
      "Epoch 62/100\n",
      "4/4 [==============================] - 0s 15ms/step - loss: 1.4345e-04 - accuracy: 1.0000 - val_loss: 0.5780 - val_accuracy: 0.8837\n",
      "Epoch 63/100\n",
      "4/4 [==============================] - 0s 13ms/step - loss: 1.3893e-04 - accuracy: 1.0000 - val_loss: 0.5713 - val_accuracy: 0.8837\n",
      "Epoch 64/100\n",
      "4/4 [==============================] - 0s 13ms/step - loss: 1.3180e-04 - accuracy: 1.0000 - val_loss: 0.5686 - val_accuracy: 0.8837\n",
      "Epoch 65/100\n",
      "4/4 [==============================] - 0s 12ms/step - loss: 1.2682e-04 - accuracy: 1.0000 - val_loss: 0.5746 - val_accuracy: 0.8837\n",
      "Epoch 66/100\n",
      "4/4 [==============================] - 0s 14ms/step - loss: 1.2755e-04 - accuracy: 1.0000 - val_loss: 0.5775 - val_accuracy: 0.8837\n",
      "Epoch 67/100\n",
      "4/4 [==============================] - 0s 13ms/step - loss: 1.2672e-04 - accuracy: 1.0000 - val_loss: 0.5741 - val_accuracy: 0.8837\n",
      "Epoch 68/100\n",
      "4/4 [==============================] - 0s 14ms/step - loss: 1.2649e-04 - accuracy: 1.0000 - val_loss: 0.5669 - val_accuracy: 0.8837\n",
      "Epoch 69/100\n",
      "4/4 [==============================] - 0s 13ms/step - loss: 1.2017e-04 - accuracy: 1.0000 - val_loss: 0.5539 - val_accuracy: 0.8837\n",
      "Epoch 70/100\n",
      "4/4 [==============================] - 0s 13ms/step - loss: 1.0787e-04 - accuracy: 1.0000 - val_loss: 0.5449 - val_accuracy: 0.8837\n",
      "Epoch 71/100\n",
      "4/4 [==============================] - 0s 16ms/step - loss: 1.0493e-04 - accuracy: 1.0000 - val_loss: 0.5348 - val_accuracy: 0.8837\n",
      "Epoch 72/100\n",
      "4/4 [==============================] - 0s 14ms/step - loss: 1.0149e-04 - accuracy: 1.0000 - val_loss: 0.5290 - val_accuracy: 0.8837\n",
      "Epoch 73/100\n",
      "4/4 [==============================] - 0s 14ms/step - loss: 9.9128e-05 - accuracy: 1.0000 - val_loss: 0.5260 - val_accuracy: 0.8837\n",
      "Epoch 74/100\n",
      "4/4 [==============================] - 0s 13ms/step - loss: 9.8129e-05 - accuracy: 1.0000 - val_loss: 0.5240 - val_accuracy: 0.8837\n",
      "Epoch 75/100\n",
      "4/4 [==============================] - 0s 21ms/step - loss: 9.6770e-05 - accuracy: 1.0000 - val_loss: 0.5255 - val_accuracy: 0.8837\n",
      "Epoch 76/100\n",
      "4/4 [==============================] - 0s 26ms/step - loss: 9.5164e-05 - accuracy: 1.0000 - val_loss: 0.5295 - val_accuracy: 0.8837\n",
      "Epoch 77/100\n",
      "4/4 [==============================] - 0s 30ms/step - loss: 9.3060e-05 - accuracy: 1.0000 - val_loss: 0.5332 - val_accuracy: 0.8837\n",
      "Epoch 78/100\n",
      "4/4 [==============================] - 0s 14ms/step - loss: 9.1226e-05 - accuracy: 1.0000 - val_loss: 0.5372 - val_accuracy: 0.8837\n",
      "Epoch 79/100\n",
      "4/4 [==============================] - 0s 16ms/step - loss: 8.9522e-05 - accuracy: 1.0000 - val_loss: 0.5400 - val_accuracy: 0.8837\n",
      "Epoch 80/100\n",
      "4/4 [==============================] - 0s 22ms/step - loss: 8.8147e-05 - accuracy: 1.0000 - val_loss: 0.5428 - val_accuracy: 0.8837\n",
      "Epoch 81/100\n",
      "4/4 [==============================] - 0s 19ms/step - loss: 8.6212e-05 - accuracy: 1.0000 - val_loss: 0.5440 - val_accuracy: 0.8837\n",
      "Epoch 82/100\n",
      "4/4 [==============================] - 0s 24ms/step - loss: 8.4567e-05 - accuracy: 1.0000 - val_loss: 0.5455 - val_accuracy: 0.8837\n",
      "Epoch 83/100\n",
      "4/4 [==============================] - 0s 27ms/step - loss: 8.3213e-05 - accuracy: 1.0000 - val_loss: 0.5461 - val_accuracy: 0.8837\n",
      "Epoch 84/100\n",
      "4/4 [==============================] - 0s 26ms/step - loss: 8.1928e-05 - accuracy: 1.0000 - val_loss: 0.5449 - val_accuracy: 0.8837\n",
      "Epoch 85/100\n",
      "4/4 [==============================] - 0s 28ms/step - loss: 8.0223e-05 - accuracy: 1.0000 - val_loss: 0.5440 - val_accuracy: 0.8837\n",
      "Epoch 86/100\n",
      "4/4 [==============================] - 0s 22ms/step - loss: 7.9891e-05 - accuracy: 1.0000 - val_loss: 0.5417 - val_accuracy: 0.8837\n",
      "Epoch 87/100\n",
      "4/4 [==============================] - 0s 23ms/step - loss: 7.8127e-05 - accuracy: 1.0000 - val_loss: 0.5366 - val_accuracy: 0.8837\n",
      "Epoch 88/100\n",
      "4/4 [==============================] - 0s 24ms/step - loss: 7.6450e-05 - accuracy: 1.0000 - val_loss: 0.5276 - val_accuracy: 0.8837\n",
      "Epoch 89/100\n",
      "4/4 [==============================] - 0s 19ms/step - loss: 7.6955e-05 - accuracy: 1.0000 - val_loss: 0.5227 - val_accuracy: 0.8837\n",
      "Epoch 90/100\n",
      "4/4 [==============================] - 0s 18ms/step - loss: 7.6891e-05 - accuracy: 1.0000 - val_loss: 0.5215 - val_accuracy: 0.8837\n",
      "Epoch 91/100\n",
      "4/4 [==============================] - 0s 19ms/step - loss: 7.5989e-05 - accuracy: 1.0000 - val_loss: 0.5236 - val_accuracy: 0.8837\n",
      "Epoch 92/100\n",
      "4/4 [==============================] - 0s 19ms/step - loss: 7.4706e-05 - accuracy: 1.0000 - val_loss: 0.5277 - val_accuracy: 0.8837\n",
      "Epoch 93/100\n",
      "4/4 [==============================] - 0s 18ms/step - loss: 7.2835e-05 - accuracy: 1.0000 - val_loss: 0.5326 - val_accuracy: 0.8837\n",
      "Epoch 94/100\n",
      "4/4 [==============================] - 0s 17ms/step - loss: 7.0418e-05 - accuracy: 1.0000 - val_loss: 0.5341 - val_accuracy: 0.8837\n",
      "Epoch 95/100\n",
      "4/4 [==============================] - 0s 21ms/step - loss: 6.9302e-05 - accuracy: 1.0000 - val_loss: 0.5340 - val_accuracy: 0.8837\n",
      "Epoch 96/100\n",
      "4/4 [==============================] - 0s 27ms/step - loss: 6.8276e-05 - accuracy: 1.0000 - val_loss: 0.5349 - val_accuracy: 0.8837\n",
      "Epoch 97/100\n",
      "4/4 [==============================] - 0s 16ms/step - loss: 6.8420e-05 - accuracy: 1.0000 - val_loss: 0.5394 - val_accuracy: 0.8837\n",
      "Epoch 98/100\n",
      "4/4 [==============================] - 0s 19ms/step - loss: 6.7919e-05 - accuracy: 1.0000 - val_loss: 0.5429 - val_accuracy: 0.8837\n",
      "Epoch 99/100\n",
      "4/4 [==============================] - 0s 19ms/step - loss: 6.5963e-05 - accuracy: 1.0000 - val_loss: 0.5399 - val_accuracy: 0.8837\n",
      "Epoch 100/100\n",
      "4/4 [==============================] - 0s 21ms/step - loss: 6.4989e-05 - accuracy: 1.0000 - val_loss: 0.5406 - val_accuracy: 0.8837\n"
     ]
    },
    {
     "data": {
      "text/plain": [
       "<keras.src.callbacks.History at 0x7efcdc50b4d0>"
      ]
     },
     "execution_count": 21,
     "metadata": {},
     "output_type": "execute_result"
    }
   ],
   "source": [
    "model.fit(x_train,y_train,batch_size=32,epochs=100,validation_split=0.3,verbose=1)"
   ]
  },
  {
   "cell_type": "code",
   "execution_count": 22,
   "id": "8042bf89",
   "metadata": {},
   "outputs": [
    {
     "name": "stdout",
     "output_type": "stream",
     "text": [
      "2/2 [==============================] - 0s 5ms/step\n"
     ]
    }
   ],
   "source": [
    "y_pred=model.predict(x_test).argmax(axis=1)"
   ]
  },
  {
   "cell_type": "code",
   "execution_count": 30,
   "id": "6f65b775",
   "metadata": {},
   "outputs": [],
   "source": [
    "from sklearn.metrics import confusion_matrix,classification_report"
   ]
  },
  {
   "cell_type": "code",
   "execution_count": 26,
   "id": "6e5b84e2",
   "metadata": {},
   "outputs": [],
   "source": [
    "conf=confusion_matrix(y_pred,y_test)"
   ]
  },
  {
   "cell_type": "code",
   "execution_count": 29,
   "id": "5eb123ed",
   "metadata": {},
   "outputs": [
    {
     "data": {
      "text/plain": [
       "<AxesSubplot:>"
      ]
     },
     "execution_count": 29,
     "metadata": {},
     "output_type": "execute_result"
    },
    {
     "data": {
      "image/png": "[encoded data removed]",
      "text/plain": [
       "<Figure size 640x480 with 2 Axes>"
      ]
     },
     "metadata": {},
     "output_type": "display_data"
    }
   ],
   "source": [
    "sns.heatmap(conf)"
   ]
  },
  {
   "cell_type": "code",
   "execution_count": 32,
   "id": "4cdf3f24",
   "metadata": {},
   "outputs": [
    {
     "name": "stdout",
     "output_type": "stream",
     "text": [
      "              precision    recall  f1-score   support\n",
      "\n",
      "           0       1.00      1.00      1.00        29\n",
      "           1       1.00      1.00      1.00         4\n",
      "           2       1.00      1.00      1.00        17\n",
      "           3       0.80      1.00      0.89         4\n",
      "           4       1.00      0.67      0.80         3\n",
      "\n",
      "    accuracy                           0.98        57\n",
      "   macro avg       0.96      0.93      0.94        57\n",
      "weighted avg       0.99      0.98      0.98        57\n",
      "\n"
     ]
    }
   ],
   "source": [
    "print(classification_report(y_pred,y_test))"
   ]
  },
  {
   "cell_type": "code",
   "execution_count": null,
   "id": "5a51a42b",
   "metadata": {},
   "outputs": [],
   "source": []
  }
 ],
 "metadata": {
  "kernelspec": {
   "display_name": "Python 3 (ipykernel)",
   "language": "python",
   "name": "python3"
  },
  "language_info": {
   "codemirror_mode": {
    "name": "ipython",
    "version": 3
   },
   "file_extension": ".py",
   "mimetype": "text/x-python",
   "name": "python",
   "nbconvert_exporter": "python",
   "pygments_lexer": "ipython3",
   "version": "3.11.5"
  }
 },
 "nbformat": 4,
 "nbformat_minor": 5
}
