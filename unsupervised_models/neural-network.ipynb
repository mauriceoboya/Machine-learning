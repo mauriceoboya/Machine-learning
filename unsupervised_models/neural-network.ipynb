{
 "cells": [
  {
   "cell_type": "code",
   "execution_count": 1,
   "metadata": {},
   "outputs": [
    {
     "data": {
      "text/plain": [
       "'cat'"
      ]
     },
     "execution_count": 1,
     "metadata": {},
     "output_type": "execute_result"
    }
   ],
   "source": [
    "import pandas as pd\n",
    "dataset_labels=pd.read_csv('/home/fibonacci/Videos/dataset/labels.csv')\n",
    "dataset_labels['label'][80]"
   ]
  },
  {
   "cell_type": "code",
   "execution_count": null,
   "metadata": {},
   "outputs": [],
   "source": [
    "import cv2\n",
    "import os\n",
    "import glob\n",
    "from os.path import splitext,basename\n",
    "import matplotlib.pyplot as plt\n",
    "\n",
    "folder_path = '/home/fibonacci/Videos/dataset/image_data'\n",
    "image_list = os.listdir(folder_path)\n",
    "\n",
    "df = pd.DataFrame({'ImageFileName': image_list})\n",
    "\n",
    "# Display the DataFrame (optional)\n",
    "print(df)\n"
   ]
  },
  {
   "cell_type": "code",
   "execution_count": null,
   "metadata": {},
   "outputs": [],
   "source": [
    "def preprocess_image(image_path,resize=False):\n",
    "    img = cv2.imread(image_path)\n",
    "    img = cv2.cvtColor(img, cv2.COLOR_BGR2RGB)\n",
    "    img = img / 255\n",
    "    if resize:\n",
    "        img = cv2.resize(img, (224,224))\n",
    "    return img \n",
    "print(\"Found %i images.\" % len(image_path))\n",
    "\n",
    "fig = plt.figure(figsize=(12, 8))\n",
    "cols = 3\n",
    "rows = 3\n",
    "fig_list = []\n",
    "\n",
    "for i, image_path in enumerate(image_path):\n",
    "    if i >= cols * rows:\n",
    "        break\n",
    "\n",
    "    fig_list.append(fig.add_subplot(rows, cols, i + 1))\n",
    "    title = splitext(basename(image_path))[0]\n",
    "    fig_list[-1].set_title(title)\n",
    "    img = preprocess_image(image_path)\n",
    "    plt.axis(False)\n",
    "    plt.imshow(img)\n",
    "\n",
    "plt.tight_layout()\n",
    "plt.show()\n",
    "preprocess_image('/home/fibonacci/Videos/dataset/image_data')"
   ]
  }
 ],
 "metadata": {
  "kernelspec": {
   "display_name": "base",
   "language": "python",
   "name": "python3"
  },
  "language_info": {
   "codemirror_mode": {
    "name": "ipython",
    "version": 3
   },
   "file_extension": ".py",
   "mimetype": "text/x-python",
   "name": "python",
   "nbconvert_exporter": "python",
   "pygments_lexer": "ipython3",
   "version": "3.10.9"
  }
 },
 "nbformat": 4,
 "nbformat_minor": 2
}
